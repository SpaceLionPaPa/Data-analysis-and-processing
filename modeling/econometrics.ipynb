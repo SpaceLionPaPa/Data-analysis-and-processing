{
 "cells": [
  {
   "cell_type": "markdown",
   "metadata": {},
   "source": [
    "# 计量经济学三大检验:1异方差 2多重共线性  3自相关"
   ]
  },
  {
   "cell_type": "markdown",
   "metadata": {},
   "source": [
    "## 1. 多元线性回归模型\n",
    "$$y_i=\\textbf{w}^T\\textbf{x}_i+\\epsilon_i, \\quad \\textbf{w}_i=(w_1,\\,w_2,\\, ..,\\,w_d), \\quad \\textbf{x}_i=(x_{i1},\\,x_{i2},\\, ..,\\,x_{id}) \\quad i是样本, d是变量个数$$  \n",
    "### 1.1 多元线性回归模型假设:  \n",
    "#### 1.1.1 误差项的期望为零\n",
    "$$E(\\epsilon_i)=0, \\quad i=1,2,...,m$$\n",
    "#### 1.1.2 误差项同方差\n",
    "$$Var(\\epsilon_i)=\\sigma^2, \\quad i=1,2,...,m$$\n",
    "$\\bullet\\, 每次观测误差项方差相同$  \n",
    "$\\bullet\\,违反规定：异方差$  \n",
    "#### 1.1.3 误差项无自相关   \n",
    "$$Cov(\\epsilon_i, \\epsilon_j)=0,\\quad i\\ne j, \\quad i=1,2,...,m$$\n",
    "$\\bullet\\,任意两次观测的\\epsilon_i, \\epsilon_j是不相关的, 即无序列相关性$  \n",
    "$\\bullet\\,等方差性和无序列相关性被称为高斯-马尔科夫（Gauss-Markov）假设$  \n",
    "$\\bullet\\,违反规定：自相关$\n",
    "#### 1.1.4 误差项与自变量不相关\n",
    "$$Cov(\\epsilon_i, x_{i1})=0,\\,Cov(\\epsilon_i, x_{i2})=0, \\,...,\\,Cov(\\epsilon_i, x_{id})=0 \\quad i=1,2,...,n$$\n",
    "#### 1.1.5 自变量非多重共线性\n",
    "$自变量（x_{i1},\\,x_{id}）之间不存在线性相关性$"
   ]
  },
  {
   "cell_type": "code",
   "execution_count": null,
   "metadata": {},
   "outputs": [],
   "source": []
  }
 ],
 "metadata": {
  "kernelspec": {
   "display_name": "Python 3",
   "language": "python",
   "name": "python3"
  },
  "language_info": {
   "codemirror_mode": {
    "name": "ipython",
    "version": 3
   },
   "file_extension": ".py",
   "mimetype": "text/x-python",
   "name": "python",
   "nbconvert_exporter": "python",
   "pygments_lexer": "ipython3",
   "version": "3.6.8"
  }
 },
 "nbformat": 4,
 "nbformat_minor": 2
}
